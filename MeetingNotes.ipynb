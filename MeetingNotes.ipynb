{
  "nbformat": 4,
  "nbformat_minor": 0,
  "metadata": {
    "colab": {
      "provenance": []
    },
    "kernelspec": {
      "name": "python3",
      "display_name": "Python 3"
    },
    "language_info": {
      "name": "python"
    }
  },
  "cells": [
    {
      "cell_type": "code",
      "execution_count": 1,
      "metadata": {
        "colab": {
          "base_uri": "https://localhost:8080/"
        },
        "id": "7kDEk9K5a7Ti",
        "outputId": "6930d558-fde8-44c4-8075-1a3f92afb723"
      },
      "outputs": [
        {
          "output_type": "stream",
          "name": "stdout",
          "text": [
            "Collecting langgraph\n",
            "  Downloading langgraph-0.5.3-py3-none-any.whl.metadata (6.9 kB)\n",
            "Requirement already satisfied: langchain in /usr/local/lib/python3.11/dist-packages (0.3.26)\n",
            "Requirement already satisfied: langsmith in /usr/local/lib/python3.11/dist-packages (0.4.4)\n",
            "Requirement already satisfied: transformers in /usr/local/lib/python3.11/dist-packages (4.53.1)\n",
            "Requirement already satisfied: langchain-core>=0.1 in /usr/local/lib/python3.11/dist-packages (from langgraph) (0.3.68)\n",
            "Collecting langgraph-checkpoint<3.0.0,>=2.1.0 (from langgraph)\n",
            "  Downloading langgraph_checkpoint-2.1.0-py3-none-any.whl.metadata (4.2 kB)\n",
            "Collecting langgraph-prebuilt<0.6.0,>=0.5.0 (from langgraph)\n",
            "  Downloading langgraph_prebuilt-0.5.2-py3-none-any.whl.metadata (4.5 kB)\n",
            "Collecting langgraph-sdk<0.2.0,>=0.1.42 (from langgraph)\n",
            "  Downloading langgraph_sdk-0.1.73-py3-none-any.whl.metadata (1.5 kB)\n",
            "Requirement already satisfied: pydantic>=2.7.4 in /usr/local/lib/python3.11/dist-packages (from langgraph) (2.11.7)\n",
            "Requirement already satisfied: xxhash>=3.5.0 in /usr/local/lib/python3.11/dist-packages (from langgraph) (3.5.0)\n",
            "Requirement already satisfied: langchain-text-splitters<1.0.0,>=0.3.8 in /usr/local/lib/python3.11/dist-packages (from langchain) (0.3.8)\n",
            "Requirement already satisfied: SQLAlchemy<3,>=1.4 in /usr/local/lib/python3.11/dist-packages (from langchain) (2.0.41)\n",
            "Requirement already satisfied: requests<3,>=2 in /usr/local/lib/python3.11/dist-packages (from langchain) (2.32.3)\n",
            "Requirement already satisfied: PyYAML>=5.3 in /usr/local/lib/python3.11/dist-packages (from langchain) (6.0.2)\n",
            "Requirement already satisfied: httpx<1,>=0.23.0 in /usr/local/lib/python3.11/dist-packages (from langsmith) (0.28.1)\n",
            "Requirement already satisfied: orjson<4.0.0,>=3.9.14 in /usr/local/lib/python3.11/dist-packages (from langsmith) (3.10.18)\n",
            "Requirement already satisfied: packaging>=23.2 in /usr/local/lib/python3.11/dist-packages (from langsmith) (24.2)\n",
            "Requirement already satisfied: requests-toolbelt<2.0.0,>=1.0.0 in /usr/local/lib/python3.11/dist-packages (from langsmith) (1.0.0)\n",
            "Requirement already satisfied: zstandard<0.24.0,>=0.23.0 in /usr/local/lib/python3.11/dist-packages (from langsmith) (0.23.0)\n",
            "Requirement already satisfied: filelock in /usr/local/lib/python3.11/dist-packages (from transformers) (3.18.0)\n",
            "Requirement already satisfied: huggingface-hub<1.0,>=0.30.0 in /usr/local/lib/python3.11/dist-packages (from transformers) (0.33.2)\n",
            "Requirement already satisfied: numpy>=1.17 in /usr/local/lib/python3.11/dist-packages (from transformers) (2.0.2)\n",
            "Requirement already satisfied: regex!=2019.12.17 in /usr/local/lib/python3.11/dist-packages (from transformers) (2024.11.6)\n",
            "Requirement already satisfied: tokenizers<0.22,>=0.21 in /usr/local/lib/python3.11/dist-packages (from transformers) (0.21.2)\n",
            "Requirement already satisfied: safetensors>=0.4.3 in /usr/local/lib/python3.11/dist-packages (from transformers) (0.5.3)\n",
            "Requirement already satisfied: tqdm>=4.27 in /usr/local/lib/python3.11/dist-packages (from transformers) (4.67.1)\n",
            "Requirement already satisfied: anyio in /usr/local/lib/python3.11/dist-packages (from httpx<1,>=0.23.0->langsmith) (4.9.0)\n",
            "Requirement already satisfied: certifi in /usr/local/lib/python3.11/dist-packages (from httpx<1,>=0.23.0->langsmith) (2025.7.9)\n",
            "Requirement already satisfied: httpcore==1.* in /usr/local/lib/python3.11/dist-packages (from httpx<1,>=0.23.0->langsmith) (1.0.9)\n",
            "Requirement already satisfied: idna in /usr/local/lib/python3.11/dist-packages (from httpx<1,>=0.23.0->langsmith) (3.10)\n",
            "Requirement already satisfied: h11>=0.16 in /usr/local/lib/python3.11/dist-packages (from httpcore==1.*->httpx<1,>=0.23.0->langsmith) (0.16.0)\n",
            "Requirement already satisfied: fsspec>=2023.5.0 in /usr/local/lib/python3.11/dist-packages (from huggingface-hub<1.0,>=0.30.0->transformers) (2025.3.2)\n",
            "Requirement already satisfied: typing-extensions>=3.7.4.3 in /usr/local/lib/python3.11/dist-packages (from huggingface-hub<1.0,>=0.30.0->transformers) (4.14.1)\n",
            "Requirement already satisfied: hf-xet<2.0.0,>=1.1.2 in /usr/local/lib/python3.11/dist-packages (from huggingface-hub<1.0,>=0.30.0->transformers) (1.1.5)\n",
            "Requirement already satisfied: tenacity!=8.4.0,<10.0.0,>=8.1.0 in /usr/local/lib/python3.11/dist-packages (from langchain-core>=0.1->langgraph) (8.5.0)\n",
            "Requirement already satisfied: jsonpatch<2.0,>=1.33 in /usr/local/lib/python3.11/dist-packages (from langchain-core>=0.1->langgraph) (1.33)\n",
            "Collecting ormsgpack>=1.10.0 (from langgraph-checkpoint<3.0.0,>=2.1.0->langgraph)\n",
            "  Downloading ormsgpack-1.10.0-cp311-cp311-manylinux_2_17_x86_64.manylinux2014_x86_64.whl.metadata (43 kB)\n",
            "\u001b[2K     \u001b[90m━━━━━━━━━━━━━━━━━━━━━━━━━━━━━━━━━━━━━━━━\u001b[0m \u001b[32m43.7/43.7 kB\u001b[0m \u001b[31m1.7 MB/s\u001b[0m eta \u001b[36m0:00:00\u001b[0m\n",
            "\u001b[?25hRequirement already satisfied: annotated-types>=0.6.0 in /usr/local/lib/python3.11/dist-packages (from pydantic>=2.7.4->langgraph) (0.7.0)\n",
            "Requirement already satisfied: pydantic-core==2.33.2 in /usr/local/lib/python3.11/dist-packages (from pydantic>=2.7.4->langgraph) (2.33.2)\n",
            "Requirement already satisfied: typing-inspection>=0.4.0 in /usr/local/lib/python3.11/dist-packages (from pydantic>=2.7.4->langgraph) (0.4.1)\n",
            "Requirement already satisfied: charset-normalizer<4,>=2 in /usr/local/lib/python3.11/dist-packages (from requests<3,>=2->langchain) (3.4.2)\n",
            "Requirement already satisfied: urllib3<3,>=1.21.1 in /usr/local/lib/python3.11/dist-packages (from requests<3,>=2->langchain) (2.4.0)\n",
            "Requirement already satisfied: greenlet>=1 in /usr/local/lib/python3.11/dist-packages (from SQLAlchemy<3,>=1.4->langchain) (3.2.3)\n",
            "Requirement already satisfied: jsonpointer>=1.9 in /usr/local/lib/python3.11/dist-packages (from jsonpatch<2.0,>=1.33->langchain-core>=0.1->langgraph) (3.0.0)\n",
            "Requirement already satisfied: sniffio>=1.1 in /usr/local/lib/python3.11/dist-packages (from anyio->httpx<1,>=0.23.0->langsmith) (1.3.1)\n",
            "Downloading langgraph-0.5.3-py3-none-any.whl (143 kB)\n",
            "\u001b[2K   \u001b[90m━━━━━━━━━━━━━━━━━━━━━━━━━━━━━━━━━━━━━━━━\u001b[0m \u001b[32m143.8/143.8 kB\u001b[0m \u001b[31m5.1 MB/s\u001b[0m eta \u001b[36m0:00:00\u001b[0m\n",
            "\u001b[?25hDownloading langgraph_checkpoint-2.1.0-py3-none-any.whl (43 kB)\n",
            "\u001b[2K   \u001b[90m━━━━━━━━━━━━━━━━━━━━━━━━━━━━━━━━━━━━━━━━\u001b[0m \u001b[32m43.8/43.8 kB\u001b[0m \u001b[31m2.9 MB/s\u001b[0m eta \u001b[36m0:00:00\u001b[0m\n",
            "\u001b[?25hDownloading langgraph_prebuilt-0.5.2-py3-none-any.whl (23 kB)\n",
            "Downloading langgraph_sdk-0.1.73-py3-none-any.whl (50 kB)\n",
            "\u001b[2K   \u001b[90m━━━━━━━━━━━━━━━━━━━━━━━━━━━━━━━━━━━━━━━━\u001b[0m \u001b[32m50.2/50.2 kB\u001b[0m \u001b[31m4.2 MB/s\u001b[0m eta \u001b[36m0:00:00\u001b[0m\n",
            "\u001b[?25hDownloading ormsgpack-1.10.0-cp311-cp311-manylinux_2_17_x86_64.manylinux2014_x86_64.whl (216 kB)\n",
            "\u001b[2K   \u001b[90m━━━━━━━━━━━━━━━━━━━━━━━━━━━━━━━━━━━━━━━━\u001b[0m \u001b[32m216.5/216.5 kB\u001b[0m \u001b[31m11.0 MB/s\u001b[0m eta \u001b[36m0:00:00\u001b[0m\n",
            "\u001b[?25hInstalling collected packages: ormsgpack, langgraph-sdk, langgraph-checkpoint, langgraph-prebuilt, langgraph\n",
            "Successfully installed langgraph-0.5.3 langgraph-checkpoint-2.1.0 langgraph-prebuilt-0.5.2 langgraph-sdk-0.1.73 ormsgpack-1.10.0\n"
          ]
        }
      ],
      "source": [
        "!pip install langgraph langchain langsmith transformers"
      ]
    },
    {
      "cell_type": "code",
      "source": [
        "import os\n",
        "from google.colab import userdata\n",
        "\n",
        "os.environ[\"LANGCHAIN_TRACING_V2\"] = \"true\"\n",
        "os.environ[\"LANGCHAIN_API_KEY\"] = userdata.get(\"LANGSMITH_API_KEY\")"
      ],
      "metadata": {
        "id": "kE_e5-OMk5ta"
      },
      "execution_count": 15,
      "outputs": []
    },
    {
      "cell_type": "code",
      "source": [
        "import os\n",
        "from typing import TypedDict, List\n",
        "from langsmith import traceable, Client\n",
        "from langgraph.graph import StateGraph, START, END\n",
        "from transformers import pipeline\n",
        "\n",
        "# --- LangSmith setup ---\n",
        "client = Client(api_key=os.getenv(\"LANGSMITH_API_KEY\"))\n",
        "\n",
        "# --- State definition ---\n",
        "class MeetingState(TypedDict):\n",
        "    transcript: str\n",
        "    sections: List[str]\n",
        "    summaries: List[str]\n",
        "    final_notes: str\n",
        "    reviewer_comments: str\n",
        "\n",
        "# --- Orchestrator: splits transcript by speaker  ---\n",
        "@traceable(run_type=\"tool\", name=\"Orchestrator\")\n",
        "def orchestrator_node(state: MeetingState):\n",
        "    lines = [line for line in state[\"transcript\"].split(\"\\n\") if line.strip()]\n",
        "    sections = []\n",
        "    chunk = []\n",
        "    CHUNK_SIZE = 3\n",
        "    for idx, line in enumerate(lines):\n",
        "        chunk.append(line)\n",
        "        if len(chunk) == CHUNK_SIZE or idx == len(lines) - 1:\n",
        "            sections.append(\"\\n\".join(chunk))\n",
        "            chunk = []\n",
        "    state[\"sections\"] = sections\n",
        "    print(f\"Orchestrator: {len(sections)} sections found.\")\n",
        "    return state\n",
        "\n",
        "# --- Synthesizer: LLM-based summarization of each section ---\n",
        "@traceable(run_type=\"tool\", name=\"Synthesizer (LLM)\")\n",
        "def synthesizer_node(state: MeetingState):\n",
        "    summarizer = pipeline(\"summarization\", model=\"facebook/bart-large-cnn\")\n",
        "    summaries = []\n",
        "    for section in state[\"sections\"]:\n",
        "        summary = summarizer(section, max_length=50, min_length=20, do_sample=False)[0]['summary_text']\n",
        "        summaries.append(summary)\n",
        "    state[\"summaries\"] = summaries\n",
        "    state[\"final_notes\"] = \"\\n\\n\".join(summaries)\n",
        "    print(\"Synthesizer: All sections summarized.\")\n",
        "    return state\n",
        "\n",
        "\n",
        "@traceable(run_type=\"tool\", name=\"Human Review\")\n",
        "def human_review_node(state: MeetingState):\n",
        "    print(\"\\n=== FINAL SUMMARIZED NOTES ===\\n\")\n",
        "    print(state[\"final_notes\"])\n",
        "    comment = input(\"Any reviewer comments or edits? (Type or Enter to accept): \")\n",
        "    if comment.strip():\n",
        "        state[\"final_notes\"] += \"\\n[Reviewer]: \" + comment\n",
        "    state[\"reviewer_comments\"] = comment\n",
        "    return state\n",
        "\n",
        "\n",
        "@traceable(run_type=\"tool\", name=\"Archive\")\n",
        "def archive_node(state: MeetingState):\n",
        "    import json\n",
        "    with open(\"meeting_notes_archive.json\", \"a\") as f:\n",
        "        f.write(json.dumps(state) + \"\\n\")\n",
        "    print(\"Notes archived and workflow complete.\")\n",
        "    return state\n",
        "\n",
        "\n"
      ],
      "metadata": {
        "colab": {
          "base_uri": "https://localhost:8080/"
        },
        "id": "UcjRAh1Sb9HD",
        "outputId": "c4a04b20-afec-4cff-e7c9-61f447a38351"
      },
      "execution_count": 17,
      "outputs": [
        {
          "output_type": "stream",
          "name": "stderr",
          "text": [
            "/usr/local/lib/python3.11/dist-packages/langsmith/client.py:272: LangSmithMissingAPIKeyWarning: API key must be provided when using hosted LangSmith API\n",
            "  warnings.warn(\n"
          ]
        }
      ]
    },
    {
      "cell_type": "code",
      "source": [
        "# --- Graph assembly ---\n",
        "graph = StateGraph(MeetingState)\n",
        "graph.add_node(\"orchestrator\", orchestrator_node)\n",
        "graph.add_node(\"synthesizer\", synthesizer_node)\n",
        "graph.add_node(\"human_review\", human_review_node)\n",
        "graph.add_node(\"archive\", archive_node)\n",
        "\n",
        "graph.add_edge(START, \"orchestrator\")\n",
        "graph.add_edge(\"orchestrator\", \"synthesizer\")\n",
        "graph.add_edge(\"synthesizer\", \"human_review\")\n",
        "graph.add_edge(\"human_review\", \"archive\")\n",
        "graph.add_edge(\"archive\", END)\n",
        "\n",
        "meeting_graph = graph.compile()\n"
      ],
      "metadata": {
        "id": "7AymhOPXcI2S"
      },
      "execution_count": 18,
      "outputs": []
    },
    {
      "cell_type": "code",
      "source": [
        "from IPython.display import Image, display\n",
        "display(Image(meeting_graph.get_graph().draw_mermaid_png()))"
      ],
      "metadata": {
        "colab": {
          "base_uri": "https://localhost:8080/",
          "height": 548
        },
        "id": "tiAMt1OudZvz",
        "outputId": "f6b15c3a-8f39-480d-caec-f7581e55af2e"
      },
      "execution_count": 19,
      "outputs": [
        {
          "output_type": "display_data",
          "data": {
            "image/png": "[encoded data removed]",
            "text/plain": [
              "<IPython.core.display.Image object>"
            ]
          },
          "metadata": {}
        }
      ]
    },
    {
      "cell_type": "code",
      "source": [
        "# --- Run  test workflow ---\n",
        "if __name__ == \"__main__\":\n",
        "    transcript = \"\"\"\n",
        "    Speaker 1: Good morning, everyone. Let's start with our Q3 project updates.\n",
        "    Speaker 2: Thanks, Speaker 1. The web app migration is almost done, but we've hit a snag with authentication—OAuth tokens are expiring too soon.\n",
        "    Speaker 3: We've had several user complaints about login issues. Should we escalate to IT Security?\n",
        "    Speaker 4: Yes, please loop in IT. Also, Speaker 2, can you document the token flow bug and send it to the backlog?\n",
        "    Speaker 2: Absolutely, I’ll write up a ticket today. On a related note, the UI refresh for mobile is 80% complete. We need assets from the design team to finish.\n",
        "    Speaker 1: Noted. Design, can you prioritize mobile assets?\n",
        "    Speaker 5: We're on it. Expect initial drafts by Thursday. Also, we're revamping the color palette for better accessibility.\n",
        "    Speaker 3: Speaking of accessibility, several users with screen readers had issues navigating the new dashboard.\n",
        "    Speaker 4: That’s a critical blocker. Please coordinate with QA for accessibility testing.\n",
        "    Speaker 2: Will do. On the infrastructure side, cloud costs spiked last week—primarily from large batch data jobs.\n",
        "    Speaker 1: Can someone analyze which jobs triggered the spike?\n",
        "    Speaker 3: I’ll take that action. Also, our release schedule is tight; do we have room to slip the October sprint?\n",
        "    Speaker 1: Not really, but let’s flag high-risk items and communicate early.\n",
        "    Speaker 5: Quick update: the marketing team requests a new landing page for the October campaign.\n",
        "    Speaker 1: Please gather requirements and share a draft by next week.\n",
        "    Speaker 2: One more thing: we have three open critical bugs in the API. Fixes should be ready by tomorrow.\n",
        "    Speaker 4: Thanks, everyone. Let's summarize action items before we adjourn.\n",
        "    Speaker 1: Sure! (1) IT Security to review authentication bug. (2) Design to deliver mobile assets and accessibility review. (3) QA to expand dashboard accessibility tests. (4) Speaker 3 to analyze cloud costs. (5) Speaker 2 to resolve API bugs. (6) Marketing draft due next week.\n",
        "    Speaker 1: Anything else?\n",
        "    Speaker 5: All good here.\n",
        "    Speaker 2: Nothing from me.\n",
        "    Speaker 3: No, thanks.\n",
        "    Speaker 4: Meeting adjourned. Thanks all.\n",
        "    \"\"\"\n",
        "\n",
        "    state = {\n",
        "        \"transcript\": transcript,\n",
        "        \"sections\": [],\n",
        "        \"summaries\": [],\n",
        "        \"final_notes\": \"\",\n",
        "        \"reviewer_comments\": \"\",\n",
        "    }\n",
        "    print(\"Automated Meeting Notes Workflow (LangGraph + LLM + LangSmith)\")\n",
        "    result = meeting_graph.invoke(state)\n",
        "    print(\"\\n=== Final Output ===\\n\")\n",
        "    print(result[\"final_notes\"])"
      ],
      "metadata": {
        "colab": {
          "base_uri": "https://localhost:8080/"
        },
        "id": "0ntYKAVPcaTK",
        "outputId": "6e41c07f-403e-480f-d074-48d2f1897898"
      },
      "execution_count": 20,
      "outputs": [
        {
          "output_type": "stream",
          "name": "stdout",
          "text": [
            "Automated Meeting Notes Workflow (LangGraph + LLM + LangSmith)\n",
            "Orchestrator: 8 sections found.\n"
          ]
        },
        {
          "output_type": "stream",
          "name": "stderr",
          "text": [
            "Device set to use cpu\n",
            "Your max_length is set to 50, but your input_length is only 34. Since this is a summarization task, where outputs shorter than the input are typically wanted, you might consider decreasing max_length manually, e.g. summarizer('...', max_length=17)\n",
            "Your max_length is set to 50, but your input_length is only 27. Since this is a summarization task, where outputs shorter than the input are typically wanted, you might consider decreasing max_length manually, e.g. summarizer('...', max_length=13)\n"
          ]
        },
        {
          "output_type": "stream",
          "name": "stdout",
          "text": [
            "Synthesizer: All sections summarized.\n",
            "\n",
            "=== FINAL SUMMARIZED NOTES ===\n",
            "\n",
            "Speaker 1: Let's start with our Q3 project updates. Speaker 2: Thanks, Speaker 1. Speaker 3: We've had several user complaints about login issues. Should we escalate to IT Security?\n",
            "\n",
            "Speakers: Can you document the token flow bug and send it to the backlog? Speaker 2: Absolutely, I’ll write up a ticket today. On a related note, the UI refresh for mobile is 80% complete.\n",
            "\n",
            "Several users with screen readers had issues navigating the new dashboard. We're revamping the color palette for better accessibility. Expect initial drafts by Thursday.\n",
            "\n",
            "Cloud costs spiked last week,primarily from large batch data jobs. Can someone analyze which jobs triggered the spike?\n",
            "\n",
            "Speaker 1: Please gather requirements and share a draft by next week. Speaker 5: Quick update: the marketing team requests a new landing page for the October campaign.\n",
            "\n",
            "We have three open critical bugs in the API. Fixes should be ready by tomorrow. Marketing draft due next week.\n",
            "\n",
            "Speaker 1: Anything else? Speaker 2: Nothing from me. Speaker 5: All good here.\n",
            "\n",
            "Speaker 3: No, thanks. Speaker 4: Meeting adjourned. Thanks all.\n",
            "Any reviewer comments or edits? (Type or Enter to accept): accept\n",
            "Notes archived and workflow complete.\n",
            "\n",
            "=== Final Output ===\n",
            "\n",
            "Speaker 1: Let's start with our Q3 project updates. Speaker 2: Thanks, Speaker 1. Speaker 3: We've had several user complaints about login issues. Should we escalate to IT Security?\n",
            "\n",
            "Speakers: Can you document the token flow bug and send it to the backlog? Speaker 2: Absolutely, I’ll write up a ticket today. On a related note, the UI refresh for mobile is 80% complete.\n",
            "\n",
            "Several users with screen readers had issues navigating the new dashboard. We're revamping the color palette for better accessibility. Expect initial drafts by Thursday.\n",
            "\n",
            "Cloud costs spiked last week,primarily from large batch data jobs. Can someone analyze which jobs triggered the spike?\n",
            "\n",
            "Speaker 1: Please gather requirements and share a draft by next week. Speaker 5: Quick update: the marketing team requests a new landing page for the October campaign.\n",
            "\n",
            "We have three open critical bugs in the API. Fixes should be ready by tomorrow. Marketing draft due next week.\n",
            "\n",
            "Speaker 1: Anything else? Speaker 2: Nothing from me. Speaker 5: All good here.\n",
            "\n",
            "Speaker 3: No, thanks. Speaker 4: Meeting adjourned. Thanks all.\n",
            "[Reviewer]: accept\n"
          ]
        }
      ]
    }
  ]
}